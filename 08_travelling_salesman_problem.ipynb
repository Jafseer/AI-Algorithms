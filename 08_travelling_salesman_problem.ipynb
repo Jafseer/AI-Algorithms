{
 "cells": [
  {
   "cell_type": "markdown",
   "metadata": {},
   "source": [
    "# Brute Force"
   ]
  },
  {
   "cell_type": "code",
   "execution_count": null,
   "metadata": {},
   "outputs": [],
   "source": [
    "# Python3 program to implement traveling salesman\n",
    "# problem using naive approach.\n",
    "from sys import maxsize\n",
    "from itertools import permutations\n",
    "V = 4\n",
    " \n",
    "# implementation of traveling Salesman Problem\n",
    "def travellingSalesmanProblem(graph, s):\n",
    " \n",
    "    # store all vertex apart from source vertex\n",
    "    vertex = []\n",
    "    for i in range(V):\n",
    "        if i != s:\n",
    "            vertex.append(i)\n",
    " \n",
    "    # store minimum weight Hamiltonian Cycle\n",
    "    min_path = maxsize\n",
    "    next_permutation=permutations(vertex)\n",
    "    solution = None\n",
    "    for path in next_permutation:\n",
    " \n",
    "        # store current Path weight(cost)\n",
    "        current_pathweight = 0\n",
    " \n",
    "        # compute current path weight\n",
    "        k = s\n",
    "        for j in path:\n",
    "            current_pathweight += graph[k][j]\n",
    "            k = j\n",
    "        current_pathweight += graph[k][s]\n",
    " \n",
    "        # update minimum\n",
    "        min_path = min(min_path, current_pathweight)\n",
    "        if min_path == current_pathweight :\n",
    "            solution=path\n",
    "         \n",
    "    return min_path,(s,)+solution\n",
    "\n",
    " \n",
    " \n",
    "# Driver Code\n",
    "if __name__ == \"__main__\":\n",
    " \n",
    "    # matrix representation of graph\n",
    "    graph = [[0, 10, 15, 20], \n",
    "             [10, 0, 35, 25],\n",
    "             [15, 35, 0, 30],\n",
    "             [20, 25, 30, 0]]\n",
    "    s = 0\n",
    "    min_path,solution=travellingSalesmanProblem(graph, s)\n",
    "    print(solution)\n",
    "    print(min_path)"
   ]
  },
  {
   "cell_type": "markdown",
   "metadata": {},
   "source": [
    "# Genitic Algorithm"
   ]
  },
  {
   "cell_type": "code",
   "execution_count": 1,
   "metadata": {},
   "outputs": [],
   "source": [
    "# Imports \n",
    "import numpy as np\n",
    "import random\n",
    "\n",
    "from datetime import datetime"
   ]
  },
  {
   "cell_type": "code",
   "execution_count": 2,
   "metadata": {},
   "outputs": [
    {
     "data": {
      "text/plain": [
       "{'Berlin': [29, 94],\n",
       " 'London': [56, 68],\n",
       " 'Moscow': [54, 42],\n",
       " 'Barcelona': [64, 16],\n",
       " 'Rome': [70, 26],\n",
       " 'Paris': [81, 69],\n",
       " 'Vienna': [54, 41],\n",
       " 'Munich': [91, 6],\n",
       " 'Istanbul': [40, 84],\n",
       " 'Kyiv': [19, 91],\n",
       " 'Bucharest': [61, 96],\n",
       " 'Minsk': [21, 58],\n",
       " 'Warsaw': [67, 89],\n",
       " 'Budapest': [74, 43],\n",
       " 'Milan': [91, 79],\n",
       " 'Prague': [3, 87],\n",
       " 'Sofia': [52, 94],\n",
       " 'Birmingham': [27, 48],\n",
       " 'Brussels': [75, 10],\n",
       " 'Amsterdam': [88, 18]}"
      ]
     },
     "execution_count": 2,
     "metadata": {},
     "output_type": "execute_result"
    }
   ],
   "source": [
    "# Parameters\n",
    "n_cities = 20\n",
    "\n",
    "n_population = 100\n",
    "\n",
    "mutation_rate = 0.3\n",
    "# Generating a list of coordenades representing each city\n",
    "coordinates_list = [[x,y] for x,y in zip(np.random.randint(0,100,n_cities),np.random.randint(0,100,n_cities))]\n",
    "names_list = np.array(['Berlin', 'London', 'Moscow', 'Barcelona', 'Rome', 'Paris', 'Vienna', 'Munich', 'Istanbul', 'Kyiv', 'Bucharest', 'Minsk', 'Warsaw', 'Budapest', 'Milan', 'Prague', 'Sofia', 'Birmingham', 'Brussels', 'Amsterdam'])\n",
    "cities_dict = { x:y for x,y in zip(names_list,coordinates_list)}\n",
    "\n",
    "# Function to compute the distance between two points\n",
    "def compute_city_distance_coordinates(a,b):\n",
    "    return ((a[0]-b[0])**2+(a[1]-b[1])**2)**0.5\n",
    "\n",
    "def compute_city_distance_names(city_a, city_b, cities_dict):\n",
    "    return compute_city_distance_coordinates(cities_dict[city_a], cities_dict[city_b])\n",
    "\n",
    "cities_dict"
   ]
  },
  {
   "cell_type": "code",
   "execution_count": 3,
   "metadata": {},
   "outputs": [
    {
     "data": {
      "text/plain": [
       "array([['Budapest', 'Rome', 'Warsaw', ..., 'Moscow', 'Prague', 'Vienna'],\n",
       "       ['Milan', 'Istanbul', 'Vienna', ..., 'Moscow', 'Prague', 'Kyiv'],\n",
       "       ['Rome', 'Paris', 'London', ..., 'Sofia', 'Munich', 'Kyiv'],\n",
       "       ...,\n",
       "       ['Budapest', 'Moscow', 'Warsaw', ..., 'Birmingham', 'Paris',\n",
       "        'Prague'],\n",
       "       ['Birmingham', 'Kyiv', 'Sofia', ..., 'Paris', 'Rome', 'Prague'],\n",
       "       ['Warsaw', 'Istanbul', 'Barcelona', ..., 'Minsk', 'Vienna',\n",
       "        'Rome']], dtype='<U10')"
      ]
     },
     "execution_count": 3,
     "metadata": {},
     "output_type": "execute_result"
    }
   ],
   "source": [
    "# First step: Create the first population set\n",
    "def genesis(city_list, n_population):\n",
    "\n",
    "    population_set = []\n",
    "    for i in range(n_population):\n",
    "        #Randomly generating a new solution\n",
    "        sol_i = city_list[np.random.choice(list(range(n_cities)), n_cities, replace=False)]\n",
    "        population_set.append(sol_i)\n",
    "    return np.array(population_set)\n",
    "\n",
    "population_set = genesis(names_list, n_population)\n",
    "population_set"
   ]
  },
  {
   "cell_type": "code",
   "execution_count": 4,
   "metadata": {},
   "outputs": [
    {
     "data": {
      "text/plain": [
       "array([ 961.92198025,  878.03349576,  894.42264791, 1047.66503129,\n",
       "       1063.86576319,  888.93888173, 1154.83750567, 1076.41813897,\n",
       "       1035.55482064, 1068.83351823, 1073.34842111,  958.33097492,\n",
       "       1191.62269161,  993.09987395,  999.51162647,  963.62381174,\n",
       "        935.14935561,  864.80281266, 1051.27985629,  775.02320501,\n",
       "        993.16434581, 1144.50252849,  960.81736505,  968.01026001,\n",
       "        921.60155282, 1119.06827629,  800.80574981,  928.13950359,\n",
       "        971.49202967,  944.56475279, 1124.49338466,  960.45685894,\n",
       "       1180.64919597, 1019.92395939, 1015.05224219,  987.3042819 ,\n",
       "        914.5236384 , 1047.4338131 , 1104.60009488,  998.30180785,\n",
       "       1035.26215761, 1003.16829808,  914.65075936,  956.8233207 ,\n",
       "        830.95038325, 1165.92848813, 1020.69570016, 1152.77222038,\n",
       "        919.1040101 ,  930.77409645, 1021.36305488, 1098.59656993,\n",
       "        891.94691914,  953.7910429 ,  889.26229882, 1082.12890364,\n",
       "        897.9894502 , 1043.53493393, 1011.25850275, 1114.82483903,\n",
       "       1122.14148847,  948.63192923, 1122.88955653, 1149.95602468,\n",
       "       1185.78594366, 1032.30048557,  873.52329018,  978.34297829,\n",
       "        819.24104777,  829.39546359,  949.95528988,  887.36804269,\n",
       "        963.23974718, 1068.73244879, 1015.74044316,  898.78549726,\n",
       "       1039.12630572,  918.2206779 ,  989.28468809,  911.91799741,\n",
       "        877.94203792,  996.63712589,  980.10379556,  997.55287723,\n",
       "       1004.42261389,  827.64709096, 1030.56483019,  891.54612431,\n",
       "       1213.21189243, 1095.38153035,  956.45049171, 1129.41267553,\n",
       "        805.56534535, 1021.66041267,  868.58210411,  882.33338582,\n",
       "        859.34015437, 1087.84859398,  744.09265928,  993.72430297])"
      ]
     },
     "execution_count": 4,
     "metadata": {},
     "output_type": "execute_result"
    }
   ],
   "source": [
    "def fitness_eval(city_list, cities_dict):\n",
    "    total = 0\n",
    "    for i in range(n_cities-1):\n",
    "        a = city_list[i]\n",
    "        b = city_list[i+1]\n",
    "        total += compute_city_distance_names(a,b, cities_dict)\n",
    "    return total\n",
    "def get_all_fitnes(population_set, cities_dict):\n",
    "    fitnes_list = np.zeros(n_population)\n",
    "\n",
    "    #Looping over all solutions computing the fitness for each solution\n",
    "    for i in  range(n_population):\n",
    "        fitnes_list[i] = fitness_eval(population_set[i], cities_dict)\n",
    "\n",
    "    return fitnes_list\n",
    "\n",
    "fitnes_list = get_all_fitnes(population_set,cities_dict)\n",
    "fitnes_list"
   ]
  },
  {
   "cell_type": "code",
   "execution_count": 7,
   "metadata": {},
   "outputs": [
    {
     "data": {
      "text/plain": [
       "array(['Bucharest', 'Milan', 'Munich', 'Rome', 'Birmingham', 'Barcelona',\n",
       "       'Berlin', 'Sofia', 'Amsterdam', 'Moscow', 'Kyiv', 'Brussels',\n",
       "       'Minsk', 'London', 'Paris', 'Budapest', 'Vienna', 'Warsaw',\n",
       "       'Istanbul', 'Prague'], dtype='<U10')"
      ]
     },
     "execution_count": 7,
     "metadata": {},
     "output_type": "execute_result"
    }
   ],
   "source": [
    "def progenitor_selection(population_set,fitnes_list):\n",
    "    total_fit = fitnes_list.sum()\n",
    "    prob_list = fitnes_list/total_fit\n",
    "    \n",
    "    #Notice there is the chance that a progenitor. mates with oneself\n",
    "    progenitor_list_a = np.random.choice(list(range(len(population_set))), len(population_set),p=prob_list, replace=True)\n",
    "    progenitor_list_b = np.random.choice(list(range(len(population_set))), len(population_set),p=prob_list, replace=True)\n",
    "    \n",
    "    progenitor_list_a = population_set[progenitor_list_a]\n",
    "    progenitor_list_b = population_set[progenitor_list_b]\n",
    "    \n",
    "    \n",
    "    return np.array([progenitor_list_a,progenitor_list_b])\n",
    "\n",
    "\n",
    "progenitor_list = progenitor_selection(population_set,fitnes_list)\n",
    "progenitor_list[0][2]"
   ]
  },
  {
   "cell_type": "code",
   "execution_count": 11,
   "metadata": {},
   "outputs": [
    {
     "data": {
      "text/plain": [
       "array(['Brussels', 'London', 'Bucharest', 'Rome', 'Budapest', 'Berlin',\n",
       "       'Barcelona', 'Moscow', 'Amsterdam', 'Vienna', 'Kyiv', 'Warsaw',\n",
       "       'Sofia', 'Minsk', 'Milan', 'Prague', 'Istanbul', 'Birmingham',\n",
       "       'Paris', 'Munich'], dtype='<U10')"
      ]
     },
     "execution_count": 11,
     "metadata": {},
     "output_type": "execute_result"
    }
   ],
   "source": [
    "def mate_parents(prog_a, prog_b):\n",
    "    offspring = prog_a[0:5]\n",
    "\n",
    "    for city in prog_b:\n",
    "\n",
    "        if not city in offspring:\n",
    "            offspring = np.concatenate((offspring,[city]))\n",
    "\n",
    "    return offspring\n",
    "            \n",
    "    \n",
    "    \n",
    "def mate_population(parent_list):\n",
    "    new_population_set = []\n",
    "    for i in range(parent_list.shape[1]):\n",
    "        prog_a, prog_b = parent_list[0][i], parent_list[1][i]\n",
    "        offspring = mate_parents(prog_a, prog_b)\n",
    "        new_population_set.append(offspring)\n",
    "        \n",
    "    return new_population_set\n",
    "\n",
    "new_population_set = mate_population(progenitor_list)\n",
    "new_population_set[0]"
   ]
  },
  {
   "cell_type": "code",
   "execution_count": 12,
   "metadata": {},
   "outputs": [
    {
     "data": {
      "text/plain": [
       "array(['Moscow', 'Istanbul', 'Bucharest', 'Sofia', 'Budapest', 'Brussels',\n",
       "       'Birmingham', 'Berlin', 'Amsterdam', 'Vienna', 'Kyiv', 'Prague',\n",
       "       'Rome', 'Minsk', 'Milan', 'Warsaw', 'London', 'Barcelona', 'Paris',\n",
       "       'Munich'], dtype='<U10')"
      ]
     },
     "execution_count": 12,
     "metadata": {},
     "output_type": "execute_result"
    }
   ],
   "source": [
    "def mutate_offspring(offspring):\n",
    "    for q in range(int(n_cities*mutation_rate)):\n",
    "        a = np.random.randint(0,n_cities)\n",
    "        b = np.random.randint(0,n_cities)\n",
    "\n",
    "        offspring[a], offspring[b] = offspring[b], offspring[a]\n",
    "\n",
    "    return offspring\n",
    "    \n",
    "    \n",
    "def mutate_population(new_population_set):\n",
    "    mutated_pop = []\n",
    "    for offspring in new_population_set:\n",
    "        mutated_pop.append(mutate_offspring(offspring))\n",
    "    return mutated_pop\n",
    "\n",
    "mutated_pop = mutate_population(new_population_set)\n",
    "mutated_pop[0]"
   ]
  },
  {
   "cell_type": "code",
   "execution_count": 13,
   "metadata": {},
   "outputs": [
    {
     "name": "stdout",
     "output_type": "stream",
     "text": [
      "0 744.0926592770511 988.8461539460889 15/11/22 15:00\n",
      "100 794.483559552319 994.280233761282 15/11/22 15:01\n",
      "200 723.6689381764972 970.8074501559283 15/11/22 15:01\n",
      "300 751.5097815706475 971.1267201782935 15/11/22 15:01\n",
      "400 739.0380870502811 976.7269065863775 15/11/22 15:01\n",
      "500 743.832422141987 981.2328255278995 15/11/22 15:01\n",
      "600 717.1179708528823 982.187993200522 15/11/22 15:01\n",
      "700 782.5749711070407 975.7614609800252 15/11/22 15:01\n",
      "800 760.5013323064923 974.1218296793354 15/11/22 15:01\n",
      "900 736.8058956435215 971.2566770980865 15/11/22 15:01\n",
      "1000 742.4207291724443 975.7379901774018 15/11/22 15:01\n",
      "1100 752.3038272081534 987.0218274943019 15/11/22 15:01\n",
      "1200 750.1641612878349 994.9038502716342 15/11/22 15:01\n",
      "1300 758.9527329049744 972.7570261556303 15/11/22 15:01\n",
      "1400 583.8430853054085 993.9483308196028 15/11/22 15:01\n",
      "1500 773.275928256733 986.7365206769774 15/11/22 15:01\n",
      "1600 761.0520377687103 983.7307147476872 15/11/22 15:01\n",
      "1700 784.515554398742 992.3157779694732 15/11/22 15:02\n",
      "1800 648.7148419083275 976.2321725366942 15/11/22 15:02\n",
      "1900 722.0857827392566 969.0219838926347 15/11/22 15:02\n",
      "2000 780.1442748788515 968.0713663803596 15/11/22 15:02\n",
      "2100 715.4588583133934 990.5576232815499 15/11/22 15:02\n",
      "2200 735.0383053805552 995.4029909348375 15/11/22 15:02\n",
      "2300 645.8179801325946 967.3630047868954 15/11/22 15:02\n",
      "2400 735.6354534337141 982.7874961418219 15/11/22 15:02\n",
      "2500 747.4954247024352 995.1024005152385 15/11/22 15:02\n",
      "2600 620.3218386834652 989.3825278486925 15/11/22 15:02\n",
      "2700 726.3644873160791 985.0660748392442 15/11/22 15:02\n",
      "2800 685.9688716531203 987.4740734936479 15/11/22 15:02\n",
      "2900 700.8396591540054 981.9266143423497 15/11/22 15:02\n",
      "3000 751.1209387085565 990.1636163064843 15/11/22 15:02\n",
      "3100 755.2575405415871 996.5104460080283 15/11/22 15:02\n",
      "3200 773.8752591945206 995.5800326674159 15/11/22 15:02\n",
      "3300 680.5731866823679 965.4662250731642 15/11/22 15:03\n",
      "3400 743.4439067260607 995.4882293146221 15/11/22 15:03\n",
      "3500 786.5168046390711 980.6158025070265 15/11/22 15:03\n",
      "3600 716.1012229462407 973.2587427694657 15/11/22 15:03\n",
      "3700 758.3643337107154 991.9180109642502 15/11/22 15:03\n",
      "3800 780.317883023883 981.1454172640562 15/11/22 15:03\n",
      "3900 717.4866737077236 977.9541216507276 15/11/22 15:03\n",
      "4000 714.7837939233038 961.5920503901365 15/11/22 15:03\n",
      "4100 712.2561466579049 982.1482606437872 15/11/22 15:03\n",
      "4200 822.4979043022485 989.4605309738722 15/11/22 15:03\n",
      "4300 690.5786068720992 977.5561144656359 15/11/22 15:03\n",
      "4400 751.5250805245739 969.49506105451 15/11/22 15:03\n",
      "4500 794.9150976703601 984.8770325893743 15/11/22 15:03\n",
      "4600 640.8485444556201 973.9125208443021 15/11/22 15:03\n",
      "4700 708.781204322425 966.5298148937629 15/11/22 15:03\n",
      "4800 738.3661321023701 986.8756119403743 15/11/22 15:03\n",
      "4900 707.6530371830056 969.690497679083 15/11/22 15:03\n",
      "5000 716.8788324296308 978.5791042028582 15/11/22 15:04\n",
      "5100 788.0903832500011 973.5009132919918 15/11/22 15:04\n",
      "5200 737.3604425812141 990.7006966657584 15/11/22 15:04\n",
      "5300 667.4389854903383 964.0206592425685 15/11/22 15:04\n",
      "5400 771.1997583980993 983.1197609016798 15/11/22 15:04\n",
      "5500 775.3605394352625 972.4411301045405 15/11/22 15:04\n",
      "5600 763.5316018114356 985.5087043648658 15/11/22 15:04\n",
      "5700 735.7466645135885 967.6164688044616 15/11/22 15:04\n",
      "5800 681.3373248900025 964.8014911657929 15/11/22 15:04\n",
      "5900 742.8464582288229 967.8416175514094 15/11/22 15:04\n",
      "6000 727.6601968237553 977.8863711266137 15/11/22 15:04\n",
      "6100 775.6818152954861 985.8212617971434 15/11/22 15:04\n",
      "6200 749.5472205356155 976.4802266519946 15/11/22 15:04\n",
      "6300 748.8756808428947 982.6550030128097 15/11/22 15:04\n",
      "6400 722.4956040213032 983.7597221368444 15/11/22 15:04\n",
      "6500 733.8487755511571 976.1649093057985 15/11/22 15:05\n",
      "6600 736.765504663833 973.9252904924575 15/11/22 15:05\n",
      "6700 703.2752956606614 976.2506176092782 15/11/22 15:05\n",
      "6800 691.0862499827398 970.5207357080598 15/11/22 15:05\n",
      "6900 738.557824276133 970.8864034283115 15/11/22 15:05\n",
      "7000 746.2312745437969 976.5961420605058 15/11/22 15:05\n",
      "7100 773.9168748429199 958.578520033494 15/11/22 15:05\n",
      "7200 777.1150672504555 986.3792416042273 15/11/22 15:05\n",
      "7300 728.6068005555414 986.4736967723974 15/11/22 15:05\n",
      "7400 744.3963359592814 989.8091873393175 15/11/22 15:05\n",
      "7500 643.4461794314091 966.9223661788975 15/11/22 15:05\n",
      "7600 732.6775653450007 972.5772599903132 15/11/22 15:05\n",
      "7700 721.4916684789836 979.1324445052987 15/11/22 15:05\n",
      "7800 749.5794347929173 974.736748428035 15/11/22 15:05\n",
      "7900 704.904289434431 976.3108399715567 15/11/22 15:05\n",
      "8000 745.3656139968568 967.0906398067222 15/11/22 15:05\n",
      "8100 699.9609826455616 994.0899965841267 15/11/22 15:06\n",
      "8200 678.4925307533247 985.8676695965838 15/11/22 15:06\n",
      "8300 703.704255561509 974.1621008302387 15/11/22 15:06\n",
      "8400 722.0382711370362 966.9200932481165 15/11/22 15:06\n",
      "8500 686.9457595768092 982.1090158439051 15/11/22 15:06\n",
      "8600 783.1010492517245 984.0599429661638 15/11/22 15:06\n",
      "8700 692.6465957133639 986.3599101109003 15/11/22 15:06\n",
      "8800 737.5950633346429 986.7397570787617 15/11/22 15:06\n",
      "8900 736.8042933937489 973.8872962357339 15/11/22 15:06\n",
      "9000 684.2608014360789 977.7187966376114 15/11/22 15:06\n",
      "9100 782.2833312750818 976.6943422385276 15/11/22 15:06\n",
      "9200 744.4479763290192 984.9555325211372 15/11/22 15:06\n",
      "9300 726.4480703374114 974.6792546349013 15/11/22 15:06\n",
      "9400 706.9153052372039 973.2248169583437 15/11/22 15:06\n",
      "9500 668.2269697695672 975.5879493499284 15/11/22 15:06\n",
      "9600 735.8441494530485 982.0633586028739 15/11/22 15:06\n",
      "9700 666.9190141013961 972.6251445628352 15/11/22 15:07\n",
      "9800 808.09846302407 982.1144212015631 15/11/22 15:07\n",
      "9900 697.2790549705264 975.0419610100647 15/11/22 15:07\n"
     ]
    },
    {
     "data": {
      "text/plain": [
       "[6289,\n",
       " 533.5852183078281,\n",
       " array([['Birmingham', 'Istanbul', 'Amsterdam', 'Barcelona', 'Vienna',\n",
       "         'Moscow', 'Minsk', 'London', 'Kyiv', 'Prague', 'Berlin',\n",
       "         'Warsaw', 'Sofia', 'Bucharest', 'Paris', 'Milan', 'Budapest',\n",
       "         'Rome', 'Brussels', 'Munich']], dtype='<U10')]"
      ]
     },
     "execution_count": 13,
     "metadata": {},
     "output_type": "execute_result"
    }
   ],
   "source": [
    "best_solution = [-1,np.inf,np.array([])]\n",
    "for i in range(10000):\n",
    "    if i%100==0: print(i, fitnes_list.min(), fitnes_list.mean(), datetime.now().strftime(\"%d/%m/%y %H:%M\"))\n",
    "    fitnes_list = get_all_fitnes(mutated_pop,cities_dict)\n",
    "    \n",
    "    #Saving the best solution\n",
    "    if fitnes_list.min() < best_solution[1]:\n",
    "        best_solution[0] = i\n",
    "        best_solution[1] = fitnes_list.min()\n",
    "        best_solution[2] = np.array(mutated_pop)[fitnes_list.min() == fitnes_list]\n",
    "    \n",
    "    progenitor_list = progenitor_selection(population_set,fitnes_list)\n",
    "    new_population_set = mate_population(progenitor_list)\n",
    "    \n",
    "    mutated_pop = mutate_population(new_population_set)\n",
    "best_solution"
   ]
  },
  {
   "cell_type": "code",
   "execution_count": null,
   "metadata": {},
   "outputs": [],
   "source": []
  }
 ],
 "metadata": {
  "kernelspec": {
   "display_name": "Python 3",
   "language": "python",
   "name": "python3"
  },
  "language_info": {
   "codemirror_mode": {
    "name": "ipython",
    "version": 3
   },
   "file_extension": ".py",
   "mimetype": "text/x-python",
   "name": "python",
   "nbconvert_exporter": "python",
   "pygments_lexer": "ipython3",
   "version": "3.7.6"
  }
 },
 "nbformat": 4,
 "nbformat_minor": 5
}
